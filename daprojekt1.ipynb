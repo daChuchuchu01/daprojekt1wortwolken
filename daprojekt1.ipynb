{
 "cells": [
  {
   "cell_type": "code",
   "execution_count": null,
   "metadata": {},
   "outputs": [
    {
     "ename": "",
     "evalue": "",
     "output_type": "error",
     "traceback": [
      "\u001b[1;31mRunning cells with 'python37' requires the ipykernel package.\n",
      "\u001b[1;31mRun the following command to install 'ipykernel' into the Python environment. \n",
      "\u001b[1;31mCommand: 'conda install -n python37 ipykernel --update-deps --force-reinstall'"
     ]
    }
   ],
   "source": [
    "import re #\n",
    "import collections \n",
    "import numpy as np\n",
    "import jieba \n",
    "import wordcloud \n",
    "from PIL import Image\n",
    "import matplotlib.pyplot as plt"
   ]
  },
  {
   "cell_type": "code",
   "execution_count": 1,
   "metadata": {},
   "outputs": [
    {
     "ename": "ModuleNotFoundError",
     "evalue": "No module named 'jieba'",
     "output_type": "error",
     "traceback": [
      "\u001b[1;31m---------------------------------------------------------------------------\u001b[0m",
      "\u001b[1;31mModuleNotFoundError\u001b[0m                       Traceback (most recent call last)",
      "\u001b[1;32mc:\\Users\\Administrator\\Documents\\GitHub\\daprojekt1wortwolken\\daprojekt1.ipynb Cell 2\u001b[0m line \u001b[0;36m5\n\u001b[0;32m      <a href='vscode-notebook-cell:/c%3A/Users/Administrator/Documents/GitHub/daprojekt1wortwolken/daprojekt1.ipynb#W1sZmlsZQ%3D%3D?line=2'>3</a>\u001b[0m \u001b[39mimport\u001b[39;00m \u001b[39mcollections\u001b[39;00m \u001b[39m# 词频统计库\u001b[39;00m\n\u001b[0;32m      <a href='vscode-notebook-cell:/c%3A/Users/Administrator/Documents/GitHub/daprojekt1wortwolken/daprojekt1.ipynb#W1sZmlsZQ%3D%3D?line=3'>4</a>\u001b[0m \u001b[39mimport\u001b[39;00m \u001b[39mnumpy\u001b[39;00m \u001b[39mas\u001b[39;00m \u001b[39mnp\u001b[39;00m \u001b[39m# numpy数据处理库\u001b[39;00m\n\u001b[1;32m----> <a href='vscode-notebook-cell:/c%3A/Users/Administrator/Documents/GitHub/daprojekt1wortwolken/daprojekt1.ipynb#W1sZmlsZQ%3D%3D?line=4'>5</a>\u001b[0m \u001b[39mimport\u001b[39;00m \u001b[39mjieba\u001b[39;00m \u001b[39m# 结巴分词\u001b[39;00m\n\u001b[0;32m      <a href='vscode-notebook-cell:/c%3A/Users/Administrator/Documents/GitHub/daprojekt1wortwolken/daprojekt1.ipynb#W1sZmlsZQ%3D%3D?line=5'>6</a>\u001b[0m \u001b[39mimport\u001b[39;00m \u001b[39mwordcloud\u001b[39;00m \u001b[39m# 词云展示库\u001b[39;00m\n\u001b[0;32m      <a href='vscode-notebook-cell:/c%3A/Users/Administrator/Documents/GitHub/daprojekt1wortwolken/daprojekt1.ipynb#W1sZmlsZQ%3D%3D?line=6'>7</a>\u001b[0m \u001b[39mfrom\u001b[39;00m \u001b[39mPIL\u001b[39;00m \u001b[39mimport\u001b[39;00m Image \u001b[39m# 图像处理库\u001b[39;00m\n",
      "\u001b[1;31mModuleNotFoundError\u001b[0m: No module named 'jieba'"
     ]
    }
   ],
   "source": [
    "# 导入扩展库\n",
    "import re # 正则表达式库\n",
    "import collections # 词频统计库\n",
    "import numpy as np # numpy数据处理库\n",
    "import jieba # 结巴分词\n",
    "import wordcloud # 词云展示库\n",
    "from PIL import Image # 图像处理库\n",
    "import matplotlib.pyplot as plt # 图像展示库\n",
    "\n",
    "# 读取文件\n",
    "fn = open('kommentierenausTikoklive.txt') # 打开文件\n",
    "string_data = fn.read() # 读出整个文件\n",
    "fn.close() # 关闭文件\n",
    "\n",
    "# 文本预处理\n",
    "pattern = re.compile(u'\\t|\\n|\\.|-|:|;|\\)|\\(|\\?|\"') # 定义正则表达式匹配模式\n",
    "string_data = re.sub(pattern, '', string_data) # 将符合模式的字符去除\n",
    "\n",
    "# 文本分词\n",
    "seg_list_exact = jieba.cut(string_data, cut_all = False) # 精确模式分词\n",
    "object_list = []\n",
    "remove_words = [u'的', u'，',u'和', u'是', u'随着', u'对于', u'对',u'等',u'能',u'都',u'。',u' ',u'、',u'中',u'在',u'了',\n",
    "                u'通常',u'如果',u'我们',u'需要'] # 自定义去除词库\n",
    "\n",
    "for word in seg_list_exact: # 循环读出每个分词\n",
    "    if word not in remove_words: # 如果不在去除词库中\n",
    "        object_list.append(word) # 分词追加到列表\n",
    "\n",
    "# 词频统计\n",
    "word_counts = collections.Counter(object_list) # 对分词做词频统计\n",
    "word_counts_top10 = word_counts.most_common(10) # 获取前10最高频的词\n",
    "print (word_counts_top10) # 输出检查\n",
    "\n",
    "# 词频展示\n",
    "mask = np.array(Image.open('wordcloud.jpg')) # 定义词频背景\n",
    "wc = wordcloud.WordCloud(\n",
    "    font_path='C:/Windows/Fonts/simhei.ttf', # 设置字体格式\n",
    "    mask=mask, # 设置背景图\n",
    "    max_words=200, # 最多显示词数\n",
    "    max_font_size=100 # 字体最大值\n",
    ")\n",
    "\n",
    "wc.generate_from_frequencies(word_counts) # 从字典生成词云\n",
    "image_colors = wordcloud.ImageColorGenerator(mask) # 从背景图建立颜色方案\n",
    "wc.recolor(color_func=image_colors) # 将词云颜色设置为背景图方案\n",
    "plt.imshow(wc) # 显示词云\n",
    "plt.axis('off') # 关闭坐标轴\n",
    "plt.show() # 显示图像"
   ]
  }
 ],
 "metadata": {
  "kernelspec": {
   "display_name": "base",
   "language": "python",
   "name": "python3"
  },
  "language_info": {
   "codemirror_mode": {
    "name": "ipython",
    "version": 3
   },
   "file_extension": ".py",
   "mimetype": "text/x-python",
   "name": "python",
   "nbconvert_exporter": "python",
   "pygments_lexer": "ipython3",
   "version": "3.11.5"
  }
 },
 "nbformat": 4,
 "nbformat_minor": 2
}
